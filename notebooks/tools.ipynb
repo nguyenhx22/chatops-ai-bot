{
 "cells": [
  {
   "cell_type": "code",
   "execution_count": 4,
   "id": "4b3f2120",
   "metadata": {},
   "outputs": [],
   "source": [
    "import streamlit as st\n",
    "import structlog\n",
    "from langchain_core.prompts import ChatPromptTemplate\n",
    "from langchain_core.output_parsers import StrOutputParser\n",
    "from langchain_core.messages import AIMessage, HumanMessage\n",
    "\n",
    "\n",
    "log = structlog.get_logger()"
   ]
  }
 ],
 "metadata": {
  "kernelspec": {
   "display_name": "Python 3",
   "language": "python",
   "name": "python3"
  },
  "language_info": {
   "codemirror_mode": {
    "name": "ipython",
    "version": 3
   },
   "file_extension": ".py",
   "mimetype": "text/x-python",
   "name": "python",
   "nbconvert_exporter": "python",
   "pygments_lexer": "ipython3",
   "version": "3.11.9"
  }
 },
 "nbformat": 4,
 "nbformat_minor": 5
}
