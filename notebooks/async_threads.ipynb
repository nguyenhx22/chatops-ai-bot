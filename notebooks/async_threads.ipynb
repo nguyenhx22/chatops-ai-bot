{
 "cells": [
  {
   "cell_type": "code",
   "execution_count": null,
   "metadata": {},
   "outputs": [],
   "source": [
    "import asyncio\n",
    "\n",
    "\"\"\"\n",
    "This script demonstrates how to run multiple async tasks concurrently using asyncio.gather.\n",
    "\"\"\"\n",
    "\n",
    "async def task(name, delay):\n",
    "    \"\"\"An async function that simulates a delayed task.\"\"\"\n",
    "    print(f\"Task {name} started.\")\n",
    "    await asyncio.sleep(delay)  # Simulate a delay\n",
    "    print(f\"Task {name} finished after {delay} seconds.\")\n",
    "\n",
    "async def main():\n",
    "    \"\"\"Runs multiple tasks concurrently.\"\"\"\n",
    "    print(\"Starting tasks...\")\n",
    "\n",
    "    # Create multiple async tasks\n",
    "    task1 = task(\"A\", 2)\n",
    "    task2 = task(\"B\", 3)\n",
    "    task3 = task(\"C\", 1)\n",
    "\n",
    "    # Run them concurrently using asyncio.gather\n",
    "    await asyncio.gather(task1, task2, task3)\n",
    "\n",
    "    print(\"All tasks completed!\")\n"
   ]
  },
  {
   "cell_type": "code",
   "execution_count": null,
   "metadata": {},
   "outputs": [],
   "source": [
    "# Run the async function in Jupyter Notebook, have to await the main function\n",
    "await main()\n",
    "\n",
    "\n",
    "## If running in normal python script use below to run the async function\n",
    "# asyncio.run(main())"
   ]
  },
  {
   "cell_type": "code",
   "execution_count": null,
   "metadata": {},
   "outputs": [
    {
     "name": "stdout",
     "output_type": "stream",
     "text": [
      "Starting tasks...\n",
      "Task A started.\n",
      "Task B started.\n",
      "Task C started.\n",
      "Task C finished after 1 seconds.\n",
      "Task A finished after 2 seconds.\n",
      "Task B finished after 3 seconds.\n",
      "All tasks completed!\n"
     ]
    }
   ],
   "source": [
    "import time\n",
    "import concurrent.futures\n",
    "\n",
    "\"\"\"\n",
    "Using ThreadPoolExecutor to run tasks in parallel.\n",
    "\"\"\"\n",
    "\n",
    "\n",
    "def task(name, delay):\n",
    "    \"\"\"A function that simulates a delayed task.\"\"\"\n",
    "    print(f\"Task {name} started.\")\n",
    "    time.sleep(delay)  # Simulate a delay (blocking)\n",
    "    print(f\"Task {name} finished after {delay} seconds.\")\n",
    "\n",
    "def main():\n",
    "    \"\"\"Runs multiple tasks concurrently using threads.\"\"\"\n",
    "    print(\"Starting tasks...\")\n",
    "\n",
    "    # Using ThreadPoolExecutor to run tasks in parallel\n",
    "    with concurrent.futures.ThreadPoolExecutor() as executor:\n",
    "        executor.submit(task, \"A\", 2)\n",
    "        executor.submit(task, \"B\", 3)\n",
    "        executor.submit(task, \"C\", 1)\n",
    "\n",
    "    print(\"All tasks completed!\")\n",
    "\n",
    "# Run in Jupyter Notebook\n",
    "main()"
   ]
  },
  {
   "cell_type": "code",
   "execution_count": null,
   "metadata": {},
   "outputs": [
    {
     "name": "stdout",
     "output_type": "stream",
     "text": [
      "Starting tasks...\n",
      "Task A started.\n",
      "Task B started.\n",
      "Task C started.\n",
      "Returning to main immediately!\n",
      "Main is doing other work...\n",
      "Main finished!\n"
     ]
    },
    {
     "name": "stdout",
     "output_type": "stream",
     "text": [
      "Task C finished after 3 seconds.\n",
      "Task A finished after 4 seconds.\n",
      "Task B finished after 5 seconds.\n"
     ]
    }
   ],
   "source": [
    "import time\n",
    "import concurrent.futures\n",
    "\n",
    "\"\"\"\"\n",
    "Using ThreadPoolExecutor to run tasks in parallel. Main continues\n",
    "execution without waiting for tasks to finish.\n",
    "\"\"\"\n",
    "\n",
    "def task(name, delay):\n",
    "    \"\"\"A function that simulates a delayed task.\"\"\"\n",
    "    print(f\"Task {name} started.\")\n",
    "    time.sleep(delay)  # Simulate a delay (blocking)\n",
    "    print(f\"Task {name} finished after {delay} seconds.\")\n",
    "\n",
    "def main():\n",
    "    \"\"\"Starts tasks and returns immediately without waiting.\"\"\"\n",
    "    print(\"Starting tasks...\")\n",
    "\n",
    "    # Create ThreadPoolExecutor\n",
    "    executor = concurrent.futures.ThreadPoolExecutor()\n",
    "\n",
    "    # Start tasks but DO NOT wait for them\n",
    "    executor.submit(task, \"A\", 4)\n",
    "    executor.submit(task, \"B\", 5)\n",
    "    executor.submit(task, \"C\", 3)\n",
    "\n",
    "    print(\"Returning to main immediately!\")  # Main continues execution\n",
    "\n",
    "# Run in Jupyter Notebook\n",
    "# Simulating other work being done while tasks run\n",
    "main()\n",
    "print(\"Main is doing other work...\")\n",
    "# time.sleep(4)  # Simulating main doing something else\n",
    "print(\"Main finished!\")\n"
   ]
  },
  {
   "cell_type": "code",
   "execution_count": 6,
   "metadata": {},
   "outputs": [
    {
     "name": "stdout",
     "output_type": "stream",
     "text": [
      "Starting tasks...\n",
      "Worker Worker_0 initialized!\n",
      "Task Task-0 started on Worker_0.\n",
      "Worker Worker_1 initialized!\n",
      "Task Task-1 started on Worker_1.\n",
      "Worker Worker_2 initialized!\n",
      "Task Task-2 started on Worker_2.\n",
      "Task Task-0 finished after 1 seconds.\n",
      "Task Task-3 started on Worker_0.\n",
      "Task Task-1 finished after 2 seconds.\n",
      "Task Task-4 started on Worker_1.\n",
      "Task Task-3 finished after 1 seconds.\n",
      "Task Task-5 started on Worker_0.\n",
      "Task Task-2 finished after 3 seconds.\n",
      "Task Task-6 started on Worker_2.\n",
      "Task Task-4 finished after 2 seconds.\n",
      "Task Task-7 started on Worker_1.\n",
      "Task Task-6 finished after 1 seconds.\n",
      "Task Task-8 started on Worker_2.\n",
      "Task Task-5 finished after 3 seconds.\n",
      "Task Task-9 started on Worker_0.\n",
      "Task Task-7 finished after 2 seconds.\n",
      "Task Task-9 finished after 1 seconds.\n",
      "Task Task-8 finished after 3 seconds.\n",
      "All tasks completed!\n"
     ]
    }
   ],
   "source": [
    "import time\n",
    "import concurrent.futures\n",
    "import threading\n",
    "\n",
    "\"\"\"\"\n",
    "Key Configurations for ThreadPoolExecutor. The most important setting is max_workers, which controls how many threads run concurrently\n",
    "\n",
    "Parameter\t        Description\t                                        Default Value\n",
    "------------------------------------------------------------------------------------------------------------------------\n",
    "max_workers\t        Number of worker threads in the pool\t            Defaults to os.cpu_count() * 5, or at least 1\n",
    "thread_name_prefix\tPrefix for naming threads (useful for debugging)\tNone\n",
    "initializer\t        Function that runs when a worker starts\t            None\n",
    "initargs\t        Arguments to pass to the initializer function\t    None\n",
    "\"\"\"\n",
    "\n",
    "# Semaphore to limit the number of concurrent tasks in the queue\n",
    "semaphore = threading.Semaphore(5)  # Allow only 5 tasks to be queued at a time\n",
    "\n",
    "def init_worker():\n",
    "    \"\"\"Initializer function that runs when a worker starts.\"\"\"\n",
    "    print(f\"Worker {threading.current_thread().name} initialized!\")\n",
    "\n",
    "def task(name, delay):\n",
    "    \"\"\"Simulated task with a delay.\"\"\"\n",
    "    with semaphore:  # Ensuring only 5 tasks are processed at a time\n",
    "        print(f\"Task {name} started on {threading.current_thread().name}.\")\n",
    "        time.sleep(delay)  # Simulate processing time\n",
    "        print(f\"Task {name} finished after {delay} seconds.\")\n",
    "\n",
    "def main():\n",
    "    \"\"\"Main function that manages threads.\"\"\"\n",
    "    print(\"Starting tasks...\")\n",
    "\n",
    "    # Configure ThreadPoolExecutor with custom settings\n",
    "    with concurrent.futures.ThreadPoolExecutor(\n",
    "        max_workers=3,  # Limit to 3 worker threads\n",
    "        thread_name_prefix=\"Worker\",\n",
    "        initializer=init_worker  # Runs once per thread\n",
    "    ) as executor:\n",
    "\n",
    "        # Submit multiple tasks with different delays\n",
    "        futures = [executor.submit(task, f\"Task-{i}\", (i % 3) + 1) for i in range(10)]\n",
    "\n",
    "        # Wait for all tasks to complete\n",
    "        concurrent.futures.wait(futures)\n",
    "\n",
    "    print(\"All tasks completed!\")\n",
    "\n",
    "# Run in Jupyter Notebook\n",
    "main()\n"
   ]
  }
 ],
 "metadata": {
  "kernelspec": {
   "display_name": "Python 3",
   "language": "python",
   "name": "python3"
  },
  "language_info": {
   "codemirror_mode": {
    "name": "ipython",
    "version": 3
   },
   "file_extension": ".py",
   "mimetype": "text/x-python",
   "name": "python",
   "nbconvert_exporter": "python",
   "pygments_lexer": "ipython3",
   "version": "3.11.9"
  }
 },
 "nbformat": 4,
 "nbformat_minor": 2
}
